{
 "cells": [
  {
   "cell_type": "code",
   "execution_count": 23,
   "metadata": {},
   "outputs": [
    {
     "name": "stdout",
     "output_type": "stream",
     "text": [
      "[[1, 'economic', 33], [2, 'business', 45]]\n",
      "updated flight schedule:\n",
      " [[ 1  1  2  3 45 60]\n",
      " [ 2  2  3  4 30 30]\n",
      " [ 3  3  4  5 70 40]]\n",
      "flight id of max flight: 3\n",
      "route: 3 to 4\n"
     ]
    }
   ],
   "source": [
    "import numpy as np\n",
    "\n",
    "def updateflight(flight_schedule,flight_id,flight_class,new_seatno):\n",
    "    for j in range(3):\n",
    "        if flight_schedule[j][0]==flight_id:\n",
    "            if flight_class==\"business\":\n",
    "                flight_schedule[j][4]=new_seatno\n",
    "            if flight_class==\"economic\":\n",
    "                flight_schedule[j][5]=new_seatno\n",
    "\n",
    "def giveres(passenger_records,pid):\n",
    "    for i in range(len(passenger_records)):\n",
    "        if passenger_records[i][0]==pid:\n",
    "            print(passenger_records[i][2])\n",
    "\n",
    "flight_schedule=np.array([[1,1,2,3,50,60],[2,2,3,4,30,80],[3,3,4,5,70,40]])\n",
    "passenger_records=np.array([\n",
    "    [111,\"Gaurav\",[[1,\"economic\",33],[2,\"business\",45]]],\n",
    "    [222,\"Vasu\",[[2,\"economic\",33],[1,\"business\",45]]]\n",
    "])\n",
    "\n",
    "giveres(passenger_records,111)\n",
    "\n",
    "updateflight(flight_schedule,1,\"business\",45)\n",
    "updateflight(flight_schedule,2,\"economic\",30)\n",
    "print(\"updated flight schedule:\\n\",flight_schedule)\n",
    "\n",
    "a=0\n",
    "max=0\n",
    "for k in range(3):\n",
    "    a=flight_schedule[k][4]+flight_schedule[k][5]\n",
    "    if a>max:\n",
    "        max=a\n",
    "print(\"flight id of max flight:\", flight_schedule[k][0])\n",
    "print(\"route:\", flight_schedule[k][1],\"to\",flight_schedule[k][2])\n",
    "\n"
   ]
  },
  {
   "cell_type": "code",
   "execution_count": null,
   "metadata": {},
   "outputs": [],
   "source": []
  },
  {
   "cell_type": "code",
   "execution_count": null,
   "metadata": {},
   "outputs": [],
   "source": []
  }
 ],
 "metadata": {
  "kernelspec": {
   "display_name": "Python 3",
   "language": "python",
   "name": "python3"
  },
  "language_info": {
   "codemirror_mode": {
    "name": "ipython",
    "version": 3
   },
   "file_extension": ".py",
   "mimetype": "text/x-python",
   "name": "python",
   "nbconvert_exporter": "python",
   "pygments_lexer": "ipython3",
   "version": "3.7.3"
  }
 },
 "nbformat": 4,
 "nbformat_minor": 2
}
